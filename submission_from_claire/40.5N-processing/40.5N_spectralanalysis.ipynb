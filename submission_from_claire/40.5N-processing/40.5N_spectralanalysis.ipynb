{
 "cells": [
  {
   "cell_type": "markdown",
   "metadata": {},
   "source": [
    "last edited by Claire Valva on September 10, 2018\n",
    "# Spectral analysis performed on 40.5N data\n",
    "end of notebook shows average fft magnitude vs. omega"
   ]
  },
  {
   "cell_type": "code",
   "execution_count": 1,
   "metadata": {},
   "outputs": [],
   "source": [
    "#set whether or not to reload data, set to true/false\n",
    "#or use data saved from an old session\n",
    "do_trends = False\n",
    "run_fresh = False"
   ]
  },
  {
   "cell_type": "code",
   "execution_count": 2,
   "metadata": {},
   "outputs": [],
   "source": [
    "#import packages\n",
    "import numpy as np\n",
    "from scipy.signal import get_window, csd\n",
    "from scipy.fftpack import fft, ifft, fftfreq, fftshift, ifftshift\n",
    "import matplotlib.pyplot as plt\n",
    "import pandas as pd\n",
    "import datetime\n",
    "import matplotlib.cm as cm\n",
    "from math import pi\n",
    "import matplotlib.ticker as tck\n",
    "import datetime\n",
    "from sympy import solve, Poly, Eq, Function, exp, re, im\n",
    "from PyEMD import EMD\n",
    "from netCDF4 import Dataset, num2date # This is to read .nc files and time array\n",
    "from scipy.optimize import fsolve\n",
    "import statsmodels.api as sm"
   ]
  },
  {
   "cell_type": "code",
   "execution_count": 3,
   "metadata": {},
   "outputs": [
    {
     "name": "stderr",
     "output_type": "stream",
     "text": [
      "/home/clairev/python-climate-data-processing/submission_from_claire/40.5N-processing/functions_forspectralanalysis.py:75: RuntimeWarning: divide by zero encountered in true_divide\n",
      "  zonal_spacing = 1/zonal_spacing\n"
     ]
    }
   ],
   "source": [
    "#import own functions from functions_forspectralanalysis.py\n",
    "#functions are based off of those in spectral_analysis_tests.ipynb \n",
    "#but edited so that they can be used in multiple notebooks\n",
    "from functions_forspectralanalysis import *"
   ]
  },
  {
   "cell_type": "markdown",
   "metadata": {},
   "source": [
    "## Import and edit file"
   ]
  },
  {
   "cell_type": "code",
   "execution_count": 4,
   "metadata": {},
   "outputs": [
    {
     "data": {
      "text/plain": [
       "<class 'netCDF4._netCDF4.Dataset'>\n",
       "root group (NETCDF3_CLASSIC data model, file format NETCDF3):\n",
       "    dimensions(sizes): longitude(240), time(55520)\n",
       "    variables(dimensions): float32 \u001b[4mz\u001b[0m(time,longitude)\n",
       "    groups: "
      ]
     },
     "execution_count": 4,
     "metadata": {},
     "output_type": "execute_result"
    }
   ],
   "source": [
    "#import file\n",
    "filepath = '/home/clairev/uncategorized-data/1979-2016-300hPa-40.5N-z.nc' # Location of the file\n",
    "fileobj = Dataset(filepath, mode='r')\n",
    "\n",
    "# Check what's in there\n",
    "fileobj"
   ]
  },
  {
   "cell_type": "code",
   "execution_count": 5,
   "metadata": {},
   "outputs": [],
   "source": [
    "#set indicies/number of things\n",
    "number_entries = int(fileobj.dimensions['time'].size)\n",
    "number_days = int(number_entries / 4)\n",
    "number_lon = fileobj.dimensions['longitude'].size\n",
    "year_number = 2016 - 1979 + 1\n",
    "\n",
    "year_list = [1979 + i for i in range(2016-1979)]"
   ]
  },
  {
   "cell_type": "code",
   "execution_count": 6,
   "metadata": {},
   "outputs": [],
   "source": [
    "#load coordinates\n",
    "#so height[i] is the geopotential height at a given time\n",
    "height = fileobj.variables['z'][:]\n",
    "g_inv = 1/9.81\n",
    "height = height*g_inv"
   ]
  },
  {
   "cell_type": "code",
   "execution_count": 7,
   "metadata": {},
   "outputs": [],
   "source": [
    "#create time array\n",
    "time_list = []\n",
    "for i in range(0,55520):\n",
    "    time_list.append(i*6)\n",
    "tunit = \"hours since 1979-01-01T00:00:00Z\"\n",
    "tarray = num2date(time_list,units = tunit,calendar = 'gregorian')\n",
    "\n",
    "#create longitude array\n",
    "lon_increment = 1.5 # The increment of each longitude grid is 1.5\n",
    "lon_list = [i * lon_increment for i in range(240)]"
   ]
  },
  {
   "cell_type": "code",
   "execution_count": 8,
   "metadata": {},
   "outputs": [],
   "source": [
    "if run_fresh:\n",
    "\n",
    "#get lists and then merge together as a dataframe\n",
    "    lon_list = [lon_list[k]\n",
    "               for i in range(number_entries)\n",
    "               for k in range(number_lon)]\n",
    "\n",
    "    z_temp = [height[i][k]\n",
    "              for i in range(number_entries)\n",
    "              for k in range(number_lon)]\n",
    "\n",
    "    date_list = [tarray[i]\n",
    "               for i in range(number_entries)\n",
    "               for k in range(number_lon)]\n",
    "    \n",
    "    #make this a dataframe\n",
    "    d = {'datetime' : date_list, 'lon': lon_list,\n",
    "                    'z' : z_temp}\n",
    "    geopot_df = pd.DataFrame(d)\n",
    "    \n",
    "    #get day/month/year separately for groupby\n",
    "    geopot_df['month'] = geopot_df['datetime'].apply(lambda x: x.month)\n",
    "    geopot_df['day'] = geopot_df['datetime'].apply(lambda x: x.day)\n",
    "    geopot_df['year'] = geopot_df['datetime'].apply(lambda x: x.year)\n",
    "    \n",
    "    #sort into seasons    \n",
    "    geopot_df[\"season\"] = geopot_df[\"month\"].apply(lambda x: season_sort(x))\n",
    "    \n",
    "    \n",
    "    # Create storage object with filename `processed_data`\n",
    "    data_store = pd.HDFStore('processed_data.h5')\n",
    "\n",
    "    # Put DataFrame into the object setting the key as 'preprocessed_df'\n",
    "    data_store['preprocessed_geopot'] = geopot_df\n",
    "    data_store.close()\n",
    "    \n",
    "else:\n",
    "        # Access data store\n",
    "    data_store = pd.HDFStore('processed_data.h5')\n",
    "\n",
    "    # Retrieve data using key\n",
    "    geopot_df = data_store['preprocessed_geopot']\n",
    "    data_store.close()"
   ]
  },
  {
   "cell_type": "markdown",
   "metadata": {},
   "source": [
    "## Perform zonal fft"
   ]
  },
  {
   "cell_type": "code",
   "execution_count": 9,
   "metadata": {},
   "outputs": [],
   "source": [
    "#get fft results at each date over entire longitude\n",
    "fft_zonal_result = [geopot_fft(height[k]) \n",
    "                    for k in range(number_entries)]"
   ]
  },
  {
   "cell_type": "markdown",
   "metadata": {},
   "source": [
    "## Perform time fft"
   ]
  },
  {
   "cell_type": "markdown",
   "metadata": {},
   "source": [
    "### detrending\n",
    "\n",
    "detrend all data using results from zonal fft"
   ]
  },
  {
   "cell_type": "code",
   "execution_count": 10,
   "metadata": {},
   "outputs": [],
   "source": [
    "#get list of years and seasons to perform transform/detrend on\n",
    "years = range(1979,2017)\n",
    "seasons = [\"winter\", \"spring\", \"summer\", \"fall\"]"
   ]
  },
  {
   "cell_type": "markdown",
   "metadata": {},
   "source": [
    "#### define some functions which depend on the files imported earlier"
   ]
  },
  {
   "cell_type": "code",
   "execution_count": 11,
   "metadata": {},
   "outputs": [],
   "source": [
    "def trendsfordf(year, season):\n",
    "    frame = geopot_df.query(query_string(year, season, 9))\n",
    "    \n",
    "    trend_list = [pairwavenum(k, frame, tarray, fft_zonal_result) \n",
    "                  for k in range(len(zonal_spacing))]\n",
    "    \n",
    "    return(trend_list)"
   ]
  },
  {
   "cell_type": "markdown",
   "metadata": {},
   "source": [
    "##### TO DO: this function gets a lot of runtime warnings, likely from the fsolve - would be nice to fix it up later on // for time being just come back and give an option to pickle it later\n",
    "\n",
    "##### TO DO: should be right, but check on the time indexing after finish  transforming back"
   ]
  },
  {
   "cell_type": "code",
   "execution_count": 12,
   "metadata": {},
   "outputs": [],
   "source": [
    "def coeff_subtract(time, frame, tarray, fft_zonal_result, trend_list):\n",
    "    #since gettimes depends on frame, get frame first\n",
    "    \n",
    "    #get first and last timestamp\n",
    "    tmin, tmax = gettimes(frame, tarray)\n",
    " \n",
    "    #get the time steps at the beginning and end of the seasons\n",
    "    iter_list = time - tmin\n",
    "    \n",
    "    #get the results and then subtract the list\n",
    "    results = fft_zonal_result[time]\n",
    "    tosub = [sublist[1][iter_list - 1] for sublist in trend_list]\n",
    "    \n",
    "    results = results - tosub\n",
    "    \n",
    "    return results"
   ]
  },
  {
   "cell_type": "code",
   "execution_count": 13,
   "metadata": {},
   "outputs": [],
   "source": [
    "def trendsfordf(year, season):\n",
    "    frame = geopot_df.query(query_string(year, season, 9))\n",
    "    \n",
    "    #get trends\n",
    "    trend_list = [pairwavenum(k, frame, tarray, fft_zonal_result) \n",
    "                  for k in range(len(zonal_spacing))]\n",
    "    \n",
    "    tmin, tmax = gettimes(frame, tarray)\n",
    "    \n",
    "    #adjust the list\n",
    "    adjusted_list = [coeff_subtract(time, frame, tarray, fft_zonal_result, trend_list) for time in range(tmin, tmax+tmin)]\n",
    "    \n",
    "    #perform ifft on the list\n",
    "    adjusted_list_ifft = [ifft(sublist) for sublist in adjusted_list]\n",
    "    \n",
    "    return(season, year, trend_list, adjusted_list, adjusted_list_ifft)"
   ]
  },
  {
   "cell_type": "code",
   "execution_count": 14,
   "metadata": {},
   "outputs": [],
   "source": [
    "#get the trends in fourier coefficients\n",
    "if do_trends == True:\n",
    "    trends_all_list = [trendsfordf(time, season) for season in seasons\n",
    "                       for time in years]\n",
    "    \n",
    "    import pickle\n",
    "\n",
    "    file_Name = \"test_trends_pickle\"\n",
    "    file_pickle = open(file_Name,'wb') \n",
    "\n",
    "    pickle.dump(trends_all_list,file_pickle)\n",
    "    file_pickle.close()"
   ]
  },
  {
   "cell_type": "code",
   "execution_count": 15,
   "metadata": {},
   "outputs": [],
   "source": [
    "if do_trends == False:\n",
    "    import pickle\n",
    "    \n",
    "    file_Name = \"test_trends_pickle\"\n",
    "    \n",
    "    file_pickle = open(file_Name, \"rb\")\n",
    "    \n",
    "    trends_all_list = pickle.load(file_pickle)"
   ]
  },
  {
   "cell_type": "markdown",
   "metadata": {},
   "source": [
    "note that the structre of trends_all_list is:\n",
    "\n",
    "trends = [time, season, trends, adjusted forier coeffs, ifft of adjusted forier coeffs] * 152\n",
    "\n",
    "where time is a year\n",
    "season is a season\n",
    "trends for that time and season are 240 entries of changing trends"
   ]
  },
  {
   "cell_type": "code",
   "execution_count": 16,
   "metadata": {},
   "outputs": [],
   "source": [
    "#pull everything out of the list\n",
    "season_index = [sublist[0] for sublist in trends_all_list]\n",
    "year_index = [sublist[1] for sublist in trends_all_list]\n",
    "trend_index = [sublist[2] for sublist in trends_all_list]\n",
    "adjcof_index = [sublist[3] for sublist in trends_all_list]\n",
    "untrend_index = [sublist[4] for sublist in trends_all_list]"
   ]
  },
  {
   "cell_type": "code",
   "execution_count": 17,
   "metadata": {},
   "outputs": [],
   "source": [
    "#flatten list of detrended z values\n",
    "flatten_df_untrend = [item for sublist in untrend_index for item in sublist]\n",
    "flatten_df_untrend = [item for sublist in flatten_df_untrend for item in sublist]"
   ]
  },
  {
   "cell_type": "code",
   "execution_count": 18,
   "metadata": {},
   "outputs": [],
   "source": [
    "#get list of same length for df binding - season, year, lon lists\n",
    "season_df_list = []\n",
    "year_df_list = []\n",
    "lon_df_list = []\n",
    "\n",
    "for i in range(len(untrend_index)):\n",
    "    for j in range(len(untrend_index[i])):\n",
    "        for k in range(240):\n",
    "            entry = season_index[i]\n",
    "            yr = year_index[i]\n",
    "            lon = lon_list[k]\n",
    "            \n",
    "            season_df_list.append(entry)\n",
    "            year_df_list.append(yr)\n",
    "            lon_df_list.append(lon)"
   ]
  },
  {
   "cell_type": "code",
   "execution_count": 19,
   "metadata": {},
   "outputs": [],
   "source": [
    "d = {\"season\": season_df_list, \"year\": year_df_list,\n",
    "     \"lon\": lon_df_list, \"adj_z\": flatten_df_untrend}\n",
    "\n",
    "untrend_df = pd.DataFrame(d)"
   ]
  },
  {
   "cell_type": "markdown",
   "metadata": {},
   "source": [
    "### check if the detrending provided results that look sensible"
   ]
  },
  {
   "cell_type": "code",
   "execution_count": 20,
   "metadata": {},
   "outputs": [
    {
     "name": "stderr",
     "output_type": "stream",
     "text": [
      "/home/clairev/anaconda3/lib/python3.6/site-packages/numpy/core/numeric.py:501: ComplexWarning: Casting complex values to real discards the imaginary part\n",
      "  return array(a, dtype, copy=False, order=order)\n"
     ]
    },
    {
     "data": {
      "text/plain": [
       "<Figure size 432x288 with 0 Axes>"
      ]
     },
     "metadata": {},
     "output_type": "display_data"
    },
    {
     "data": {
      "image/png": "[encoded data removed]",
      "text/plain": [
       "<Figure size 1296x288 with 1 Axes>"
      ]
     },
     "metadata": {},
     "output_type": "display_data"
    }
   ],
   "source": [
    "#slice some random part of original dataframe and detrended to see if have similar shape\n",
    "year_test = 2002\n",
    "season_test = \"spring\"\n",
    "\n",
    "orig_data = geopot_df.query(query_string(year_test, season_test, 9))\n",
    "untrend_data = untrend_df.query(query_string(year_test, season_test, 9))\n",
    "\n",
    "#plot the results\n",
    "#compare them again!\n",
    "plt.clf();\n",
    "plt.figure(figsize=(18,4))\n",
    "plt.plot_date(orig_data[\"datetime\"], orig_data[\"z\"], label = \"original data\")\n",
    "plt.plot_date(orig_data[\"datetime\"][:367], untrend_data[\"adj_z\"], label = \"detrended data\")\n",
    "plt.xlabel('time')\n",
    "plt.ylabel('z')\n",
    "plt.legend()\n",
    "plt.tight_layout()"
   ]
  },
  {
   "cell_type": "markdown",
   "metadata": {},
   "source": [
    "the detrend is nice and neat (visually at least - so now perform the transform on the detrended data)\n",
    "\n",
    "## Perform transform on the detrended data\n",
    "\n",
    "window used in this case is hanning, where the window size is determined by the length of data but everything is zero padded to have the maximum length"
   ]
  },
  {
   "cell_type": "code",
   "execution_count": 21,
   "metadata": {},
   "outputs": [],
   "source": [
    "#choose length of trend that is wanted\n",
    "#made all the same for easier comparative purposes\n",
    "want_size = 372\n",
    "\n",
    "#window_length = 300 #may not be currently used"
   ]
  },
  {
   "cell_type": "code",
   "execution_count": 22,
   "metadata": {},
   "outputs": [
    {
     "name": "stderr",
     "output_type": "stream",
     "text": [
      "/home/clairev/anaconda3/lib/python3.6/site-packages/ipykernel_launcher.py:3: RuntimeWarning: divide by zero encountered in true_divide\n",
      "  This is separate from the ipykernel package so we can avoid doing imports until\n"
     ]
    }
   ],
   "source": [
    "#get spacing\n",
    "time_spacing_list = fftfreq(want_size, 0.25)\n",
    "wavenum_time = 1/time_spacing_list\n",
    "wavenum_time = 93 / wavenum_time"
   ]
  },
  {
   "cell_type": "code",
   "execution_count": 23,
   "metadata": {},
   "outputs": [],
   "source": [
    "def time_spacing(numbers):\n",
    "    #kept as reference until final is done\n",
    "    num_entries = len(numbers)\n",
    "    spacing = fftfreq(num_entries, 0.25)\n",
    "    \n",
    "    return(spacing)"
   ]
  },
  {
   "cell_type": "code",
   "execution_count": 24,
   "metadata": {},
   "outputs": [],
   "source": [
    "def time_fft_window(numbers):\n",
    "    num_entries = len(numbers)\n",
    "    window = np.hanning(num_entries)\n",
    "    fft_for = numbers*window\n",
    "    fft_coeff = fft(fft_for, n = want_size)\n",
    "    ck_coeff = fft_coeff/want_size\n",
    "    \n",
    "    return(ck_coeff)"
   ]
  },
  {
   "cell_type": "code",
   "execution_count": 25,
   "metadata": {},
   "outputs": [],
   "source": [
    "def time_fft_nowindow(numbers):\n",
    "    num_entries = len(numbers)\n",
    "    fft_for = numbers\n",
    "    fft_coeff = fft(fft_for, n = want_size)\n",
    "    ck_coeff = fft_coeff/want_size\n",
    "    \n",
    "    return(ck_coeff)"
   ]
  },
  {
   "cell_type": "code",
   "execution_count": 26,
   "metadata": {},
   "outputs": [
    {
     "name": "stderr",
     "output_type": "stream",
     "text": [
      "/home/clairev/anaconda3/lib/python3.6/site-packages/scipy/fftpack/basic.py:160: FutureWarning: Using a non-tuple sequence for multidimensional indexing is deprecated; use `arr[tuple(seq)]` instead of `arr[seq]`. In the future this will be interpreted as an array index, `arr[np.array(seq)]`, which will result either in an error or a different result.\n",
      "  z[index] = x\n"
     ]
    }
   ],
   "source": [
    "#complete fft\n",
    "grouped_untrend = untrend_df.groupby([\"season\",\"year\",\"lon\"])\n",
    "grouped_z = grouped_untrend[\"adj_z\"]\n",
    "fft_grouped_wind = grouped_z.apply(time_fft_window)\n",
    "fft_grouped_nowind = grouped_z.apply(time_fft_nowindow)\n",
    "\n",
    "#get spacing of groups\n",
    "#time_fft_spacing = grouped_z.apply(time_spacing) #left until sure that I will not use"
   ]
  },
  {
   "cell_type": "code",
   "execution_count": 27,
   "metadata": {},
   "outputs": [],
   "source": [
    "#get indexing of groups\n",
    "names = grouped_untrend.apply(lambda x: x.name)"
   ]
  },
  {
   "cell_type": "code",
   "execution_count": 28,
   "metadata": {},
   "outputs": [],
   "source": [
    "def get_ind(match, sublist):\n",
    "    #function gets indices of the sublist that equal the match term\n",
    "    toreturn = [j for j in range(len(sublist)) if sublist[j] == match]\n",
    "    return toreturn"
   ]
  },
  {
   "cell_type": "code",
   "execution_count": 29,
   "metadata": {},
   "outputs": [],
   "source": [
    "#get list of year/seasons/longitudes\n",
    "time_fft_seasons = [sublist[0] for sublist in names]\n",
    "time_fft_year = [sublist[1] for sublist in names]\n",
    "time_fft_lon = [sublist[2] for sublist in names]\n",
    "\n",
    "#get lists of indicies\n",
    "lon_index_time = [get_ind(k, time_fft_lon) for k in lon_list]\n",
    "season_index_time = [get_ind(match, time_fft_seasons) for match in seasons]\n",
    "year_index_time = [get_ind(year, time_fft_year) for year in year_list]"
   ]
  },
  {
   "cell_type": "code",
   "execution_count": 30,
   "metadata": {},
   "outputs": [],
   "source": [
    "def condition_func_wint(i):\n",
    "    results = i in winter_indices \n",
    "    return(results)"
   ]
  },
  {
   "cell_type": "code",
   "execution_count": 31,
   "metadata": {},
   "outputs": [],
   "source": [
    "#want to mean over time, also make sure not to use the first summer\n",
    "winter_indices, spring_indices, summer_indices, fall_indices = season_index_time\n",
    "\n",
    "#get matches for winter and longitude, where year != 1979\n",
    "winter_lon_indices = [[i for i in lon_index_time[j] if condition_func_wint(i)] \n",
    "                      for j in range(len(lon_list))]\n",
    "\n",
    "spring_lon_indices = [[i for i in lon_index_time[j] if i in spring_indices]\n",
    "                     for j in range(len(lon_list))]\n",
    "\n",
    "summer_lon_indices = [[i for i in lon_index_time[j] if i in summer_indices]\n",
    "                     for j in range(len(lon_list))]\n",
    "\n",
    "fall_lon_indices = [[i for i in lon_index_time[j] if i in fall_indices]\n",
    "                     for j in range(len(lon_list))]"
   ]
  },
  {
   "cell_type": "code",
   "execution_count": 32,
   "metadata": {},
   "outputs": [],
   "source": [
    "def get_avglist(indices, valuelist, ax = 0):\n",
    "    #from indices and the value list, returns the list with the same indices\n",
    "    toavg = [valuelist[i] for i in indices]\n",
    "    averaged = np.average(toavg, axis = ax)\n",
    "    return averaged"
   ]
  },
  {
   "cell_type": "code",
   "execution_count": 33,
   "metadata": {},
   "outputs": [],
   "source": [
    "#now get the averages of each spectrum for the lists\n",
    "winter_ffts = [get_avglist(sublist,fft_grouped_wind) for sublist in winter_lon_indices]\n",
    "spring_ffts = [get_avglist(sublist,fft_grouped_wind) for sublist in spring_lon_indices]\n",
    "fall_ffts = [get_avglist(sublist,fft_grouped_wind) for sublist in fall_lon_indices]\n",
    "summer_ffts = [get_avglist(sublist,fft_grouped_wind) for sublist in summer_lon_indices]"
   ]
  },
  {
   "cell_type": "markdown",
   "metadata": {},
   "source": [
    "# plot wavenumber vs. fourier coeff"
   ]
  },
  {
   "cell_type": "markdown",
   "metadata": {},
   "source": [
    "As expected - the highest magnitude of fourier coefficents are in the lower numbers with a peak at about 90/the number of days in all seasons which likely represents daily patterns. The summer curve seems to be the smoothest. In all graphs there also appears to be a peak around f = 15"
   ]
  },
  {
   "cell_type": "code",
   "execution_count": 34,
   "metadata": {},
   "outputs": [],
   "source": [
    "#flatten lists for plotting\n",
    "flat_wint_ffts = [item for sublist in winter_ffts for item in sublist]\n",
    "flat_spring_ffts = [item for sublist in spring_ffts for item in sublist]\n",
    "flat_fall_ffts = [item for sublist in fall_ffts for item in sublist]\n",
    "flat_summer_ffts = [item for sublist in summer_ffts for item in sublist]\n",
    "flat_list_wtime = [wavenum_time for i in range(240)]\n",
    "flat_list_wtime = [item for sublist in flat_list_wtime for item in sublist]"
   ]
  },
  {
   "cell_type": "code",
   "execution_count": 36,
   "metadata": {},
   "outputs": [
    {
     "name": "stderr",
     "output_type": "stream",
     "text": [
      "/home/clairev/anaconda3/lib/python3.6/site-packages/numpy/core/numeric.py:553: ComplexWarning: Casting complex values to real discards the imaginary part\n",
      "  return array(a, dtype, copy=False, order=order, subok=True)\n"
     ]
    },
    {
     "data": {
      "text/plain": [
       "<Figure size 432x288 with 0 Axes>"
      ]
     },
     "metadata": {},
     "output_type": "display_data"
    },
    {
     "data": {
      "image/png": "[encoded data removed]",
      "text/plain": [
       "<Figure size 720x432 with 1 Axes>"
      ]
     },
     "metadata": {},
     "output_type": "display_data"
    },
    {
     "data": {
      "text/plain": [
       "<Figure size 432x288 with 0 Axes>"
      ]
     },
     "metadata": {},
     "output_type": "display_data"
    },
    {
     "data": {
      "image/png": "[encoded data removed]",
      "text/plain": [
       "<Figure size 720x432 with 1 Axes>"
      ]
     },
     "metadata": {},
     "output_type": "display_data"
    },
    {
     "data": {
      "text/plain": [
       "<Figure size 432x288 with 0 Axes>"
      ]
     },
     "metadata": {},
     "output_type": "display_data"
    },
    {
     "data": {
      "image/png": "[encoded data removed]",
      "text/plain": [
       "<Figure size 720x432 with 1 Axes>"
      ]
     },
     "metadata": {},
     "output_type": "display_data"
    },
    {
     "data": {
      "text/plain": [
       "<Figure size 432x288 with 0 Axes>"
      ]
     },
     "metadata": {},
     "output_type": "display_data"
    },
    {
     "data": {
      "image/png": "[encoded data removed]",
      "text/plain": [
       "<Figure size 720x432 with 1 Axes>"
      ]
     },
     "metadata": {},
     "output_type": "display_data"
    }
   ],
   "source": [
    "#plot fourier coefficients vs. wavenumber\n",
    "plt.clf();\n",
    "plt.figure(figsize=(10,6))\n",
    "plt.scatter(flat_list_wtime, flat_summer_ffts, label = \"summer\", alpha = 0.4)\n",
    "plt.title('Fourier spectrum')\n",
    "plt.title('Summer')\n",
    "plt.xlabel('Frequency');\n",
    "plt.legend()\n",
    "plt.ylim((0,50))\n",
    "plt.xlim((0,max(flat_list_wtime)))\n",
    "plt.tight_layout()\n",
    "plt.show()\n",
    "\n",
    "#plot fourier coefficients vs. wavenumber\n",
    "plt.clf();\n",
    "plt.figure(figsize=(10,6))\n",
    "plt.scatter(flat_list_wtime, flat_spring_ffts, label = \"spring\", alpha = 0.4)\n",
    "plt.title('Spring')\n",
    "plt.xlabel('Frequency');\n",
    "plt.ylabel('magnitude of Fourier coefficients');\n",
    "plt.legend()\n",
    "plt.ylim((0,50))\n",
    "plt.xlim((0,max(flat_list_wtime)))\n",
    "plt.tight_layout()\n",
    "plt.show()\n",
    "\n",
    "#plot fourier coefficients vs. wavenumber\n",
    "plt.clf();\n",
    "plt.figure(figsize=(10,6))\n",
    "plt.scatter(flat_list_wtime, flat_wint_ffts, label = \"winter\", alpha = 0.4)\n",
    "plt.title('Winter')\n",
    "plt.xlabel('Frequency');\n",
    "plt.ylabel('magnitude of Fourier coefficients');\n",
    "plt.legend()\n",
    "plt.ylim((0,50))\n",
    "plt.xlim((0,max(flat_list_wtime)))\n",
    "plt.tight_layout()\n",
    "plt.show()\n",
    "\n",
    "#plot fourier coefficients vs. wavenumber\n",
    "plt.clf();\n",
    "plt.figure(figsize=(10,6))\n",
    "plt.scatter(flat_list_wtime, flat_fall_ffts, label = \"fall\", alpha = 0.4)\n",
    "plt.title('Fall')\n",
    "plt.xlabel('Frequency');\n",
    "plt.ylabel('magnitude of Fourier coefficients');\n",
    "plt.legend()\n",
    "plt.ylim((0,50))\n",
    "plt.xlim((0,max(flat_list_wtime)))\n",
    "plt.tight_layout()\n",
    "plt.show()"
   ]
  },
  {
   "cell_type": "markdown",
   "metadata": {},
   "source": [
    "## Compare shapes of curves"
   ]
  },
  {
   "cell_type": "code",
   "execution_count": 37,
   "metadata": {},
   "outputs": [
    {
     "name": "stderr",
     "output_type": "stream",
     "text": [
      "/home/clairev/anaconda3/lib/python3.6/site-packages/numpy/core/numeric.py:501: ComplexWarning: Casting complex values to real discards the imaginary part\n",
      "  return array(a, dtype, copy=False, order=order)\n"
     ]
    }
   ],
   "source": [
    "#get loess fits for visualization purposes/comparative - NOT STAT\n",
    "wint_lowess = sm.nonparametric.lowess(np.average(winter_ffts, axis = 0), wavenum_time, frac = 0.2)\n",
    "lowess_x = list(zip(*wint_lowess))[0]\n",
    "wint_lowess_y = list(zip(*wint_lowess))[1]\n",
    "\n",
    "spring_lowess = sm.nonparametric.lowess(np.average(spring_ffts, axis = 0), wavenum_time, frac = 0.2)\n",
    "spring_lowess_y = list(zip(*spring_lowess))[1]\n",
    "\n",
    "summer_lowess = sm.nonparametric.lowess(np.average(summer_ffts, axis = 0), wavenum_time, frac = 0.2)\n",
    "summer_lowess_y = list(zip(*summer_lowess))[1]\n",
    "\n",
    "fall_lowess = sm.nonparametric.lowess(np.average(fall_ffts, axis = 0), wavenum_time, frac = 0.2)\n",
    "fall_lowess_y = list(zip(*fall_lowess))[1]"
   ]
  },
  {
   "cell_type": "code",
   "execution_count": 38,
   "metadata": {},
   "outputs": [
    {
     "data": {
      "text/plain": [
       "<Figure size 432x288 with 0 Axes>"
      ]
     },
     "metadata": {},
     "output_type": "display_data"
    },
    {
     "data": {
      "image/png": "[encoded data removed]",
      "text/plain": [
       "<Figure size 720x432 with 1 Axes>"
      ]
     },
     "metadata": {},
     "output_type": "display_data"
    }
   ],
   "source": [
    "#plot loess\n",
    "plt.clf();\n",
    "plt.figure(figsize=(10,6))\n",
    "plt.plot(lowess_x, wint_lowess_y, linestyle='-', linewidth=2, label = \"winter\")\n",
    "plt.plot(lowess_x, fall_lowess_y, linestyle='-', linewidth=2, label = \"fall\")\n",
    "plt.plot(lowess_x, summer_lowess_y, linestyle='-', linewidth=2, label = \"summer\")\n",
    "plt.plot(lowess_x, spring_lowess_y, linestyle='-', linewidth=2, label = \"spring\")\n",
    "plt.title('Fourier spectrum')\n",
    "plt.title('Summer')\n",
    "plt.xlabel('Frequency');\n",
    "plt.legend()\n",
    "plt.xlim((0,max(flat_list_wtime)))\n",
    "plt.tight_layout()\n",
    "plt.show()"
   ]
  }
 ],
 "metadata": {
  "kernelspec": {
   "display_name": "Python 3",
   "language": "python",
   "name": "python3"
  },
  "language_info": {
   "codemirror_mode": {
    "name": "ipython",
    "version": 3
   },
   "file_extension": ".py",
   "mimetype": "text/x-python",
   "name": "python",
   "nbconvert_exporter": "python",
   "pygments_lexer": "ipython3",
   "version": "3.6.6"
  }
 },
 "nbformat": 4,
 "nbformat_minor": 2
}
