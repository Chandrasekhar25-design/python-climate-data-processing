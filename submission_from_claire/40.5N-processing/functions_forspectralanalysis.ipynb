{
 "cells": [
  {
   "cell_type": "markdown",
   "metadata": {},
   "source": [
    "last edited by Claire Valva on September 5, 2018\n",
    "# Functions to be used in spectral analysis\n",
    "\n",
    "These are functions to be used in later spectral analysis, first written in a jupyter notebook for readability (and then the last line will convert to a python script to use as a source in other files). "
   ]
  },
  {
   "cell_type": "code",
   "execution_count": 1,
   "metadata": {},
   "outputs": [],
   "source": [
    "#import packages\n",
    "import numpy as np\n",
    "from scipy.signal import get_window, csd\n",
    "from scipy.fftpack import fft, ifft, fftfreq, fftshift, ifftshift\n",
    "import matplotlib.pyplot as plt\n",
    "import pandas as pd\n",
    "import datetime\n",
    "import matplotlib.cm as cm\n",
    "from math import pi\n",
    "import matplotlib.ticker as tck\n",
    "import datetime\n",
    "from sympy import solve, Poly, Eq, Function, exp, re, im\n",
    "from PyEMD import EMD\n",
    "from netCDF4 import Dataset, num2date # This is to read .nc files and time array\n",
    "from scipy.optimize import fsolve"
   ]
  },
  {
   "cell_type": "code",
   "execution_count": 2,
   "metadata": {},
   "outputs": [],
   "source": [
    "#append season to each row\n",
    "def season_sort(x):\n",
    "    if x < 3:\n",
    "        return(\"winter\")\n",
    "    elif x >= 12:\n",
    "        return(\"winter\")\n",
    "    elif x >= 3 and x < 6:\n",
    "        return(\"spring\")\n",
    "    elif x >= 6 and x < 9:\n",
    "        return(\"summer\")\n",
    "    elif x >= 9 and x < 12:\n",
    "        return(\"fall\")\n",
    "    else:\n",
    "        return(\"error?\")"
   ]
  },
  {
   "cell_type": "code",
   "execution_count": 3,
   "metadata": {},
   "outputs": [],
   "source": [
    "def query_string(yearwanted, seasonwanted,lonwanted):\n",
    "    if seasonwanted != \"winter\":\n",
    "        stuff_in_string = \"season == '{}' & year == {} & lon == {}\".format(\n",
    "            seasonwanted, yearwanted, lonwanted)\n",
    "    else:\n",
    "        stuff_in_string = \"lon == {} and ((year == {} and month == 12) or (year == {} and (month == 1 | month == 2)))\".format(\n",
    "        lonwanted, yearwanted + 1, yearwanted)\n",
    "    \n",
    "    return stuff_in_string"
   ]
  },
  {
   "cell_type": "code",
   "execution_count": 4,
   "metadata": {},
   "outputs": [],
   "source": [
    "def geopot_fft(geopotential):\n",
    "    y = fft(geopotential)\n",
    "    ck = y\n",
    "    return(ck)"
   ]
  },
  {
   "cell_type": "code",
   "execution_count": 5,
   "metadata": {},
   "outputs": [
    {
     "name": "stderr",
     "output_type": "stream",
     "text": [
      "/home/clairev/anaconda3/lib/python3.6/site-packages/ipykernel_launcher.py:2: RuntimeWarning: divide by zero encountered in true_divide\n",
      "  \n"
     ]
    }
   ],
   "source": [
    "zonal_spacing = fftfreq(240,1.5)\n",
    "zonal_spacing = 1/zonal_spacing\n",
    "zonal_spacing= 360 / zonal_spacing"
   ]
  },
  {
   "cell_type": "code",
   "execution_count": 6,
   "metadata": {},
   "outputs": [],
   "source": [
    "def solve_f(X):\n",
    "    #function to solve f coeff equation for trend analysis\n",
    "    x,y = X\n",
    "    f = Zofkt - x*np.exp(1j*y)\n",
    "    return [np.real(f), np.imag(f)] "
   ]
  },
  {
   "cell_type": "code",
   "execution_count": 7,
   "metadata": {},
   "outputs": [],
   "source": [
    "def real_f(X):\n",
    "    #function to wrap solve_f so that it can be used with fsolve\n",
    "    x,y = X\n",
    "    z = [x+0j,y+0j]\n",
    "    actual_f = solve_f(z)\n",
    "    return(actual_f)"
   ]
  },
  {
   "cell_type": "code",
   "execution_count": 8,
   "metadata": {},
   "outputs": [],
   "source": [
    "def fwithZ(time,wavenumber, fft_zonal_result):\n",
    "    global Zofkt \n",
    "    Zofkt = fft_zonal_result[time][wavenumber]\n",
    "    answers = fsolve(real_f, np.array([0,0]))\n",
    "    return answers"
   ]
  },
  {
   "cell_type": "code",
   "execution_count": 9,
   "metadata": {},
   "outputs": [],
   "source": [
    "def arrayforsub(a,b,N):\n",
    "    #get the correct length \n",
    "    Narray = np.linspace(0, N, N)\n",
    "    tosub = a*Narray + b\n",
    "    return(tosub)"
   ]
  },
  {
   "cell_type": "code",
   "execution_count": 10,
   "metadata": {},
   "outputs": [],
   "source": [
    "def gettimeints(timechange):\n",
    "    hours = timechange.days*24 + timechange.seconds // 3600\n",
    "    timeints = hours // 6\n",
    "    return timeints "
   ]
  },
  {
   "cell_type": "code",
   "execution_count": 11,
   "metadata": {},
   "outputs": [],
   "source": [
    "def gettimes(frame, tarray):\n",
    "    toplot_df = frame\n",
    "    index_df = list(toplot_df.index)\n",
    "    \n",
    "    from_start = list(toplot_df[\"datetime\"])[0] - tarray[0]\n",
    "    timechange = list(toplot_df[\"datetime\"])[len(index_df)-1] - list(toplot_df[\"datetime\"])[0]\n",
    "    \n",
    "    time_ints_fromstart = gettimeints(from_start)\n",
    "    time_ints_mid = gettimeints(timechange)\n",
    "    \n",
    "    return time_ints_fromstart, time_ints_mid"
   ]
  },
  {
   "cell_type": "code",
   "execution_count": 12,
   "metadata": {},
   "outputs": [],
   "source": [
    "def trendsolver(wavenumber, frame, tarray, fft_zonal_result):\n",
    "    #get first and last timestamp, EDIT\n",
    "    tmin, tmax = gettimes(frame, tarray)\n",
    "    tmax = tmin + tmax\n",
    "    \n",
    "    min_answers = fwithZ(tmin, wavenumber, fft_zonal_result)\n",
    "    max_answers = fwithZ(tmax, wavenumber, fft_zonal_result)\n",
    "    \n",
    "    #solve for slope\n",
    "    a_top = max_answers[0] - min_answers[0]\n",
    "    t_diff = tmax - tmin\n",
    "    a = a_top/t_diff\n",
    "    \n",
    "    #solve for intercept\n",
    "    b = -a*(t_diff)/2\n",
    "    \n",
    "    #get the array to later subtract\n",
    "    array = arrayforsub(a,b,t_diff)\n",
    "    return(array)"
   ]
  },
  {
   "cell_type": "code",
   "execution_count": 13,
   "metadata": {},
   "outputs": [],
   "source": [
    "def pairwavenum(i, frame, tarray, fft_zonal_result):\n",
    "    #pairs the wavenumber with the trend array\n",
    "    trendarray = trendsolver(i, frame, tarray, fft_zonal_result)\n",
    "    wavenumber = zonal_spacing[i]\n",
    "    \n",
    "    return(wavenumber,trendarray)"
   ]
  },
  {
   "cell_type": "code",
   "execution_count": 14,
   "metadata": {},
   "outputs": [],
   "source": [
    "def coeff_subtract(time, frame, tarray, fft_zonal_result):\n",
    "    #get first and last timestamp\n",
    "    tmin, tmax = gettimes(frame, tarray)\n",
    "    \n",
    "    #get the time steps at the beginning and end of the seasons\n",
    "    iter_list = time - tmin\n",
    "    \n",
    "    #get the results and then subtract the list\n",
    "    results = fft_zonal_result[time]\n",
    "    tosub = [sublist[1][iter_list] for sublist in trend_list]\n",
    "    \n",
    "    results = results - tosub\n",
    "    \n",
    "    return results"
   ]
  },
  {
   "cell_type": "code",
   "execution_count": 18,
   "metadata": {},
   "outputs": [],
   "source": [
    "def query_string_v2(yearwanted, seasonwanted,lonwanted):\n",
    "    stuff_in_string = \"season == '{}' & year == {} & lon == {}\".format(\n",
    "        seasonwanted, yearwanted, lonwanted)\n",
    "    \n",
    "    return stuff_in_string"
   ]
  },
  {
   "cell_type": "code",
   "execution_count": 20,
   "metadata": {},
   "outputs": [
    {
     "name": "stdout",
     "output_type": "stream",
     "text": [
      "[NbConvertApp] Converting notebook functions_forspectralanalysis.ipynb to script\n",
      "[NbConvertApp] Writing 4656 bytes to functions_forspectralanalysis.py\n"
     ]
    }
   ],
   "source": [
    "!jupyter nbconvert --to=script functions_forspectralanalysis.ipynb"
   ]
  },
  {
   "cell_type": "code",
   "execution_count": null,
   "metadata": {},
   "outputs": [],
   "source": []
  },
  {
   "cell_type": "code",
   "execution_count": null,
   "metadata": {},
   "outputs": [],
   "source": []
  },
  {
   "cell_type": "code",
   "execution_count": null,
   "metadata": {},
   "outputs": [],
   "source": []
  },
  {
   "cell_type": "code",
   "execution_count": null,
   "metadata": {},
   "outputs": [],
   "source": []
  },
  {
   "cell_type": "code",
   "execution_count": null,
   "metadata": {},
   "outputs": [],
   "source": []
  },
  {
   "cell_type": "code",
   "execution_count": null,
   "metadata": {},
   "outputs": [],
   "source": []
  }
 ],
 "metadata": {
  "kernelspec": {
   "display_name": "Python 3",
   "language": "python",
   "name": "python3"
  },
  "language_info": {
   "codemirror_mode": {
    "name": "ipython",
    "version": 3
   },
   "file_extension": ".py",
   "mimetype": "text/x-python",
   "name": "python",
   "nbconvert_exporter": "python",
   "pygments_lexer": "ipython3",
   "version": "3.6.6"
  }
 },
 "nbformat": 4,
 "nbformat_minor": 2
}
