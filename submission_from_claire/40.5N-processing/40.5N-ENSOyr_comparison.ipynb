{
 "cells": [
  {
   "cell_type": "markdown",
   "metadata": {},
   "source": [
    "last edited on February 6, 2019 by Claire Valva\n",
    "# Simulated seasonal data using ENSO partitions\n",
    "TO DO: everything/this is still very much a draft, note also that a substantial portion of this code is copied from extendedifft_randomphase.ipynb"
   ]
  },
  {
   "cell_type": "markdown",
   "metadata": {},
   "source": [
    "## packages/load files"
   ]
  },
  {
   "cell_type": "code",
   "execution_count": 1,
   "metadata": {},
   "outputs": [],
   "source": [
    "#import packages\n",
    "import numpy as np\n",
    "from scipy.fftpack import fft, ifft, fftfreq, fftshift, ifftshift\n",
    "import matplotlib.pyplot as plt\n",
    "import scipy.integrate as sciint\n",
    "import pandas as pd\n",
    "import matplotlib.cm as cm\n",
    "import matplotlib.ticker as tck\n",
    "from math import pi\n",
    "from sympy import solve, Poly, Eq, Function, exp, re, im\n",
    "from netCDF4 import Dataset, num2date # This is to read .nc files and time array\n",
    "from scipy.optimize import fsolve\n",
    "from IPython.display import display, Markdown, Latex\n",
    "import matplotlib.colors as colors\n",
    "from seaborn import cubehelix_palette #for contour plot colors\n",
    "import seaborn as sns\n",
    "from cartopy.util import add_cyclic_point\n",
    "from decimal import Decimal\n",
    "import pickle\n",
    "import time\n",
    "import random"
   ]
  },
  {
   "cell_type": "code",
   "execution_count": 2,
   "metadata": {},
   "outputs": [],
   "source": [
    "##get names to later match season + year to arrays and seasonal averaging\n",
    "file_Name = \"names_seasons\"\n",
    "file_pickle = open(file_Name,'rb') \n",
    "names_matched, indices_matched_time = pickle.load(file_pickle)"
   ]
  },
  {
   "cell_type": "code",
   "execution_count": 3,
   "metadata": {},
   "outputs": [],
   "source": [
    "#get phases of transforms, that were solved in phase_check notebook\n",
    "file_Name = \"test_phases_nowind\"\n",
    "file_pickle = open(file_Name,'rb') \n",
    "file = pickle.load(file_pickle)"
   ]
  },
  {
   "cell_type": "code",
   "execution_count": 4,
   "metadata": {},
   "outputs": [],
   "source": [
    "#get geopotential height dataset\n",
    "# Access data store\n",
    "data_store = pd.HDFStore('processed_data.h5')\n",
    "\n",
    "# Retrieve data using key\n",
    "geopot_df = data_store['preprocessed_geopot']\n",
    "data_store.close()"
   ]
  },
  {
   "cell_type": "markdown",
   "metadata": {},
   "source": [
    "## convert loaded objects into usable formats, average over seasons"
   ]
  },
  {
   "cell_type": "code",
   "execution_count": 5,
   "metadata": {},
   "outputs": [
    {
     "name": "stderr",
     "output_type": "stream",
     "text": [
      "/home/clairev/anaconda3/lib/python3.6/site-packages/ipykernel_launcher.py:3: RuntimeWarning: divide by zero encountered in true_divide\n",
      "  This is separate from the ipykernel package so we can avoid doing imports until\n"
     ]
    }
   ],
   "source": [
    "#get zonal spacing array for plotting later\n",
    "zonal_spacing = fftfreq(240,1.5)\n",
    "zonal_spacing = 1/zonal_spacing\n",
    "zonal_spacing= 360 / zonal_spacing"
   ]
  },
  {
   "cell_type": "code",
   "execution_count": 6,
   "metadata": {},
   "outputs": [],
   "source": [
    "#puts arrays into list formats (not sure exactly why this is necessary)\n",
    "#however it is, otherwise isn't compatible with modulo operation\n",
    "tested = [[[list(leaf)[1] for leaf in stem] for stem in trunk] for trunk in file]\n",
    "phases = [[[np.remainder(leaf, 2*pi) \n",
    "            for leaf in stem] \n",
    "           for stem in trunk] \n",
    "          for trunk in tested]\n",
    "\n",
    "amps = [[[list(leaf)[0] for leaf in stem] for stem in trunk] for trunk in file]"
   ]
  },
  {
   "cell_type": "code",
   "execution_count": 7,
   "metadata": {},
   "outputs": [],
   "source": [
    "#sorts phases and amplitudes into seasons, whose index matches list: seasons\n",
    "seasons = ['winter', 'spring', 'summer', 'fall']\n",
    "\n",
    "#sort them into each season\n",
    "d2_seasons = [[phases[i] for i in range(len(phases) - 1) \n",
    "               if names_matched[i][1] == part] for part in seasons]\n",
    "#sort them into each season\n",
    "season_phases = [[phases[i] for i in range(len(phases)) \n",
    "               if names_matched[i][1] == part] for part in seasons]\n",
    "\n",
    "#sort them into each season\n",
    "season_amps = [[amps[i] for i in range(len(phases) - 1) \n",
    "               if names_matched[i][1] == part] for part in seasons]"
   ]
  },
  {
   "cell_type": "markdown",
   "metadata": {},
   "source": [
    "## choose and exclude ENSO years\n",
    "Here I make (rough) lists of el nino/regular/la nina years, pulled from a NOAA webpage (https://www.esrl.noaa.gov/psd/enso/past_events.html) — if this method seems to improve predictions, I will refine criteria used for definition. After that I will then partition the data and compare relative models. Years used are 1979-2016."
   ]
  },
  {
   "cell_type": "code",
   "execution_count": 15,
   "metadata": {},
   "outputs": [],
   "source": [
    "## choose and sort ENSO years, see notebook for more details on the details for being chosen\n",
    "# (although this should be updated soon)"
   ]
  },
  {
   "cell_type": "code",
   "execution_count": 8,
   "metadata": {},
   "outputs": [],
   "source": [
    "#make lists of el nino/regular/la nina years\n",
    "nino = [1980,1983,1987,1988,1992,\n",
    "        1995,1998,2003,2007,2010]\n",
    "neutral = [1979,1981,1982,1984,1985,1986,1990,\n",
    "           1991,1993,1994,1996,1997,2001,2002,\n",
    "           2004,2005,2006,2009,2013,2014,2015,2016]\n",
    "nina = [1989,1999,2000,2008,2011,2012]"
   ]
  },
  {
   "cell_type": "markdown",
   "metadata": {},
   "source": [
    "### simulate these separate ENSO years"
   ]
  },
  {
   "cell_type": "code",
   "execution_count": 9,
   "metadata": {},
   "outputs": [],
   "source": [
    "#sort into those years and seasons and put into lists (surprise surprise)\n",
    "nino_amps = [[amps[i] for i in range(len(phases) - 1) \n",
    "               if names_matched[i][1] == part and names_matched[i][0] in nino] \n",
    "               for part in seasons]\n",
    "neutral_amps = [[amps[i] for i in range(len(phases) - 1) \n",
    "               if names_matched[i][1] == part and names_matched[i][0] in neutral] \n",
    "               for part in seasons]\n",
    "nina_amps = [[amps[i] for i in range(len(phases) - 1) \n",
    "               if names_matched[i][1] == part and names_matched[i][0] in nina] \n",
    "               for part in seasons]"
   ]
  },
  {
   "cell_type": "code",
   "execution_count": 11,
   "metadata": {},
   "outputs": [],
   "source": [
    "#adjust for winter averaging\n",
    "#TO DO: come up with better procedure rather \n",
    "#current: chopping off edges to make the same length for averaging\n",
    "norml = 359\n",
    "longl = 363\n",
    "\n",
    "def padded(to_pad, index):\n",
    "    length = len(to_pad)\n",
    "    if index == 0:\n",
    "        zeros = longl - length\n",
    "        to_pad = list(to_pad)\n",
    "        for i in range(zeros):\n",
    "            to_pad.append(0)\n",
    "        return to_pad\n",
    "    else:\n",
    "        return to_pad"
   ]
  },
  {
   "cell_type": "code",
   "execution_count": 14,
   "metadata": {},
   "outputs": [],
   "source": [
    "#pad rows with zeros to account for leap year\n",
    "nino_amps_adj = [[[padded(row, index = i)  \n",
    "                     for row in entry] for entry in nino_amps[i]] for i in range(4)]\n",
    "nina_amps_adj = [[[padded(row, index = i)  \n",
    "                     for row in entry] for entry in nina_amps[i]] for i in range(4)]\n",
    "neutral_amps_adj = [[[padded(row, index = i)  \n",
    "                     for row in entry] for entry in neutral_amps[i]] for i in range(4)]"
   ]
  },
  {
   "cell_type": "code",
   "execution_count": 16,
   "metadata": {},
   "outputs": [],
   "source": [
    "#get averages for each year type\n",
    "nino_avgs = [[np.average(season, axis = 0)] for season in nino_amps_adj]\n",
    "nina_avgs = [[np.average(season, axis = 0)] for season in nina_amps_adj]\n",
    "neutral_avgs = [[np.average(season, axis = 0)] for season in neutral_amps_adj]\n",
    "\n",
    "avg_lists = [nino_avgs, nina_avgs, neutral_avgs]\n",
    "name_list = [\"nino\", \"nina\", \"neutral\"]"
   ]
  },
  {
   "cell_type": "code",
   "execution_count": null,
   "metadata": {},
   "outputs": [],
   "source": [
    "## perform ifft"
   ]
  },
  {
   "cell_type": "code",
   "execution_count": null,
   "metadata": {},
   "outputs": [],
   "source": []
  },
  {
   "cell_type": "code",
   "execution_count": null,
   "metadata": {},
   "outputs": [],
   "source": []
  },
  {
   "cell_type": "code",
   "execution_count": null,
   "metadata": {},
   "outputs": [],
   "source": []
  }
 ],
 "metadata": {
  "kernelspec": {
   "display_name": "Python 3",
   "language": "python",
   "name": "python3"
  },
  "language_info": {
   "codemirror_mode": {
    "name": "ipython",
    "version": 3
   },
   "file_extension": ".py",
   "mimetype": "text/x-python",
   "name": "python",
   "nbconvert_exporter": "python",
   "pygments_lexer": "ipython3",
   "version": "3.6.6"
  }
 },
 "nbformat": 4,
 "nbformat_minor": 2
}
