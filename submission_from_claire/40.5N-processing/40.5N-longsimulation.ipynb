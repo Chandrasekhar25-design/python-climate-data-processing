{
 "cells": [
  {
   "cell_type": "markdown",
   "metadata": {},
   "source": [
    "last edited on November 3 by Claire Valva\n",
    "# Endless seasons for 40.5N spectral analysis\n",
    "\n",
    "This notebook uses fft coefficient values (averaged for each season) to then create an arbitrarily long wave (ie. an endless summer etc) for later analysis. Currently known to work when the season wanted is a total of 10 by 10 observations (which is not quite endless). "
   ]
  },
  {
   "cell_type": "code",
   "execution_count": 1,
   "metadata": {},
   "outputs": [],
   "source": [
    "#use this instead? it might be faster? \n",
    "#maybe do numpy.reshape instead? after just running everything in line? download this later!\n",
    "import numexpr as ne\n",
    "from numba import jit"
   ]
  },
  {
   "cell_type": "code",
   "execution_count": 2,
   "metadata": {},
   "outputs": [
    {
     "name": "stderr",
     "output_type": "stream",
     "text": [
      "/home/clairev/python-climate-data-processing/submission_from_claire/40.5N-processing/functions_forspectralanalysis.py:84: RuntimeWarning: divide by zero encountered in true_divide\n",
      "  zonal_spacing = 1/zonal_spacing\n"
     ]
    }
   ],
   "source": [
    "#import packages\n",
    "import numpy as np\n",
    "from scipy.fftpack import fft, ifft, fftfreq, fftshift, ifftshift\n",
    "import matplotlib.pyplot as plt\n",
    "from math import pi\n",
    "import matplotlib.ticker as tck\n",
    "import datetime\n",
    "import pickle\n",
    "from functions_forspectralanalysis import * #just in case I need it?"
   ]
  },
  {
   "cell_type": "code",
   "execution_count": 3,
   "metadata": {},
   "outputs": [],
   "source": [
    "#load 2d transform from last time\n",
    "file_Name = \"transform_2d_oct2018\"\n",
    "file_pickle = open(file_Name,'rb') \n",
    "loaded_pickle = pickle.load(file_pickle)"
   ]
  },
  {
   "cell_type": "code",
   "execution_count": 4,
   "metadata": {},
   "outputs": [],
   "source": [
    "d2_trans, seasons, d2_averages = loaded_pickle"
   ]
  },
  {
   "cell_type": "markdown",
   "metadata": {},
   "source": [
    "## ifft data (with simulation of extended time)"
   ]
  },
  {
   "cell_type": "code",
   "execution_count": 5,
   "metadata": {},
   "outputs": [],
   "source": [
    "#get some constants/often used arrays\n",
    "M = len(d2_trans[0])\n",
    "N = len(d2_trans[0][0])\n",
    "\n",
    "exp_part = 2*pi*1j\n",
    "divided = M*N\n",
    "recip_divided = 1/(M*N)\n",
    "\n",
    "m_array = [m for m in range(M) for n in range(N)]\n",
    "n_array = [n for m in range(M) for n in range(N)]"
   ]
  },
  {
   "cell_type": "code",
   "execution_count": 6,
   "metadata": {},
   "outputs": [],
   "source": [
    "#set i,k,l for testing purposes\n",
    "i = 3\n",
    "k = 4\n",
    "l = 5\n",
    "\n",
    "#get this array for testing\n",
    "test_fft_array = np.array([d2_trans[i][m][n] \n",
    "                           for m in range(M) \n",
    "                           for n in range(N)])\n",
    "\n",
    "to_exps = np.array(ne.evaluate(\"m_array*k/M+n_array*l/N\")) * exp_part\n",
    "exped = ne.evaluate(\"exp(to_exps)\")"
   ]
  },
  {
   "cell_type": "markdown",
   "metadata": {},
   "source": [
    "### time and test functions to make sure they run with numba"
   ]
  },
  {
   "cell_type": "code",
   "execution_count": 7,
   "metadata": {},
   "outputs": [
    {
     "name": "stdout",
     "output_type": "stream",
     "text": [
      "fast_g: elapsed (with compilation) = 0.7740650177001953\n",
      "fast_g: elapsed (after compilation) = 0.008321046829223633\n",
      "fast_bundled: elapsed (with compilation) = 8.430325746536255\n",
      "fast_bundled: elapsed (after compilation) = 7.551801681518555\n",
      "check if fast_bundled adds anything: (after compilation) = 7.4927544593811035\n"
     ]
    }
   ],
   "source": [
    "import time\n",
    "\n",
    "#declare the test array <- im ok with this not being optimized because one has to do it 4 times\n",
    "#if that changes, may have to optimize further\n",
    "fft_array = test_fft_array\n",
    "\n",
    "@jit(nopython = True) #try to do this with numba\n",
    "def fast_g(k,l,fft_array):\n",
    "    #function gets each individual coefficient\n",
    "    to_exps = np.array([m*k/M+n*l/N for m in range(M) for n in range(N)]) * exp_part\n",
    "    exped = np.exp(to_exps)\n",
    "    entry_kl = np.sum(fft_array * exped)\n",
    "    \n",
    "    return entry_kl\n",
    "\n",
    "@jit(nopython = True) \n",
    "def fast_bundled(fft_array = fft_array, K = 240, L = 2000):\n",
    "    #function that gets all coefficients in a nice array, will be divided by M*N at end\n",
    "    return [[fast_g(k,l,fft_array) for l in range(L)] for k in range(K)]\n",
    "\n",
    "\n",
    "# time fast_g with compilation\n",
    "start = time.time()\n",
    "fast_g(1,2,fft_array)\n",
    "end = time.time()\n",
    "print(\"fast_g: elapsed (with compilation) = %s\" % (end - start))\n",
    "\n",
    "# NOW THE FUNCTION IS COMPILED, RE-TIME IT EXECUTING FROM CACHE\n",
    "start = time.time()\n",
    "fast_g(1,2,fft_array)\n",
    "end = time.time()\n",
    "print(\"fast_g: elapsed (after compilation) = %s\" % (end - start))\n",
    "\n",
    "#time it?\n",
    "start = time.time()\n",
    "fast_bundled(K=100,L=10)\n",
    "end = time.time()\n",
    "print(\"fast_bundled: elapsed (with compilation) = %s\" % (end - start))\n",
    "\n",
    "# NOW THE FUNCTION IS COMPILED, RE-TIME IT EXECUTING FROM CACHE\n",
    "start = time.time()\n",
    "fast_bundled(K=100,L=10)\n",
    "end = time.time()\n",
    "print(\"fast_bundled: elapsed (after compilation) = %s\" % (end - start))\n",
    "\n",
    "# NOW THE FUNCTION IS COMPILED, RE-TIME IT EXECUTING FROM CACHE\n",
    "start = time.time()\n",
    "[[fast_g(k,l,fft_array) for k in range(100)] for l in range(10)]\n",
    "end = time.time()\n",
    "print(\"check if fast_bundled adds anything: (after compilation) = %s\" % (end - start))"
   ]
  },
  {
   "cell_type": "code",
   "execution_count": 8,
   "metadata": {},
   "outputs": [],
   "source": [
    "#define total result (by also multiplying by divided)\n",
    "def total_ifft(fft_array, K, L):\n",
    "    return np.array(fast_bundled(fft_array = fft_array,K = K,L = L))*recip_divided"
   ]
  },
  {
   "cell_type": "markdown",
   "metadata": {},
   "source": [
    "### now apply functions to the seasonal averages (and a sample)"
   ]
  },
  {
   "cell_type": "code",
   "execution_count": 9,
   "metadata": {},
   "outputs": [],
   "source": [
    "#get list of fft coeffs will apply to for later labeling\n",
    "fft_names = seasons + [\"test\"]\n",
    "\n",
    "#flatten averages for functions\n",
    "flat_avgs = [[d2_averages[i][m][n] \n",
    "                           for m in range(M) \n",
    "                           for n in range(N)] for i in range(4)]\n",
    "\n",
    "#get list of arrays to apply functions\n",
    "toapply = flat_avgs.copy()\n",
    "toapply.append(test_fft_array)\n",
    "\n",
    "toapply = np.array(toapply)"
   ]
  },
  {
   "cell_type": "code",
   "execution_count": null,
   "metadata": {},
   "outputs": [],
   "source": [
    "#apply ifft\n",
    "verylongseasons = [total_ifft(fft_array = coeffs, K = 240, L = 2000) for coeffs in toapply]"
   ]
  },
  {
   "cell_type": "code",
   "execution_count": null,
   "metadata": {},
   "outputs": [],
   "source": [
    "file_Name = \"nov18\"\n",
    "    \n",
    "file_pickle = open(file_Name,'wb') \n",
    "savethis = [verylongseasons, fft_names]   \n",
    "pickle.dump(savethis,file_pickle)\n",
    "file_pickle.close()"
   ]
  }
 ],
 "metadata": {
  "kernelspec": {
   "display_name": "Python 3",
   "language": "python",
   "name": "python3"
  },
  "language_info": {
   "codemirror_mode": {
    "name": "ipython",
    "version": 3
   },
   "file_extension": ".py",
   "mimetype": "text/x-python",
   "name": "python",
   "nbconvert_exporter": "python",
   "pygments_lexer": "ipython3",
   "version": "3.6.6"
  }
 },
 "nbformat": 4,
 "nbformat_minor": 2
}
