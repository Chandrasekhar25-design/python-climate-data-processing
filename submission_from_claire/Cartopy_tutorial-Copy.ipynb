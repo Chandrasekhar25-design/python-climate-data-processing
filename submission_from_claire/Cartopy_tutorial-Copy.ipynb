{
 "cells": [
  {
   "cell_type": "markdown",
   "metadata": {},
   "source": [
    "Edited by Claire Valva (Feb 12, 5:40 PM)\n",
    "\n",
    "# Install the cartopy package for map plotting before starting jupyter\n",
    "- In your terminal, install cartopy using conda\n",
    "```\n",
    "conda install -c scitools cartopy \n",
    "```"
   ]
  },
  {
   "cell_type": "code",
   "execution_count": 1,
   "metadata": {},
   "outputs": [],
   "source": [
    "import matplotlib.pyplot as plt\n",
    "from netCDF4 import Dataset, num2date # This is to read .nc files and time marray\n",
    "import numpy as np\n",
    "from cartopy.util import add_cyclic_point\n",
    "import cartopy.crs as ccrs"
   ]
  },
  {
   "cell_type": "markdown",
   "metadata": {},
   "source": [
    "# Load the data"
   ]
  },
  {
   "cell_type": "code",
   "execution_count": 2,
   "metadata": {},
   "outputs": [
    {
     "data": {
      "text/plain": [
       "<class 'netCDF4._netCDF4.Dataset'>\n",
       "root group (NETCDF3_CLASSIC data model, file format NETCDF3):\n",
       "    Conventions: CF-1.0\n",
       "    history: 2012-09-17 21:28:18 GMT by mars2netcdf-0.92\n",
       "    dimensions(sizes): longitude(240), latitude(121), levelist(37), time(360)\n",
       "    variables(dimensions): float32 \u001b[4mlongitude\u001b[0m(longitude), float32 \u001b[4mlatitude\u001b[0m(latitude), int32 \u001b[4mlevelist\u001b[0m(levelist), int32 \u001b[4mtime\u001b[0m(time), int16 \u001b[4mz\u001b[0m(time,levelist,latitude,longitude)\n",
       "    groups: "
      ]
     },
     "execution_count": 2,
     "metadata": {},
     "output_type": "execute_result"
    }
   ],
   "source": [
    "filepath = '/home/csyhuang/ERAI/2007/2007_01-03_z.nc' # Location of the file\n",
    "fileobj = Dataset(filepath, mode='r')\n",
    "\n",
    "# Check what's in there\n",
    "fileobj"
   ]
  },
  {
   "cell_type": "markdown",
   "metadata": {},
   "source": [
    "# Load the coordinates"
   ]
  },
  {
   "cell_type": "code",
   "execution_count": 3,
   "metadata": {},
   "outputs": [],
   "source": [
    "xlon = fileobj.variables['longitude'][:]\n",
    "ylat = fileobj.variables['latitude'][:]\n",
    "plev = fileobj.variables['levelist'][:]\n",
    "height = -7.*np.log(plev/1000.)"
   ]
  },
  {
   "cell_type": "code",
   "execution_count": 7,
   "metadata": {},
   "outputs": [],
   "source": [
    "#ylat"
   ]
  },
  {
   "cell_type": "markdown",
   "metadata": {},
   "source": [
    "# Load the time coordinate"
   ]
  },
  {
   "cell_type": "code",
   "execution_count": 5,
   "metadata": {},
   "outputs": [
    {
     "name": "stdout",
     "output_type": "stream",
     "text": [
      "First five time stamps in the dataset: \n",
      " [datetime.datetime(2007, 1, 1, 0, 0) datetime.datetime(2007, 1, 1, 6, 0)\n",
      " datetime.datetime(2007, 1, 1, 12, 0) datetime.datetime(2007, 1, 1, 18, 0)\n",
      " datetime.datetime(2007, 1, 2, 0, 0)]\n"
     ]
    }
   ],
   "source": [
    "time = fileobj.variables['time'][:]\n",
    "tunit = \"hours since 1900-01-01T00:00:00Z\" # This is true for Noboru's file but not necessarily the others\n",
    "tarray = num2date(time,units = tunit,calendar = 'gregorian')\n",
    "print('First five time stamps in the dataset: \\n',tarray[:5]) # print the first 5 time stamps"
   ]
  },
  {
   "cell_type": "markdown",
   "metadata": {},
   "source": [
    "# Get the data on the layer p = 300hPa "
   ]
  },
  {
   "cell_type": "code",
   "execution_count": 5,
   "metadata": {},
   "outputs": [
    {
     "name": "stdout",
     "output_type": "stream",
     "text": [
      "zlev = 17\n",
      "Dimension of the geopotential height matrix:  (121, 240)\n"
     ]
    }
   ],
   "source": [
    "zlev = np.where(plev==300)[0][0] # get the layers with pressure = 300hPa\n",
    "tstep = 0\n",
    "print('zlev =',zlev)\n",
    "\n",
    "# Get a snapshot of geopotential height at 300hpa at timestep = 0\n",
    "geopotential_height = fileobj.variables['z'][tstep,zlev,:,:]/9.81 # shape = (121, 240)\n",
    "print('Dimension of the geopotential height matrix: ' ,geopotential_height.shape)\n",
    "\n",
    "#geopotential_height"
   ]
  },
  {
   "cell_type": "markdown",
   "metadata": {},
   "source": [
    "# Demo: Plotting the geopotential height at 300hPa using two different projections\n",
    "- Here I use the arrays *color_intervals* to set the color levels and *contour_intervals* to set the contour intervals.\n",
    "- For better control of your plot appearance, google to find out what you can do with *contour*, *contourf*, and *matplotlib* axes.\n",
    "- You can also choose a different projection from canopy, see examples from their [website](http://scitools.org.uk/cartopy/docs/v0.15/crs/projections.html)."
   ]
  },
  {
   "cell_type": "code",
   "execution_count": 6,
   "metadata": {},
   "outputs": [
    {
     "name": "stderr",
     "output_type": "stream",
     "text": [
      "/home/clairev/anaconda3/lib/python3.6/site-packages/matplotlib/pyplot.py:523: RuntimeWarning: More than 20 figures have been opened. Figures created through the pyplot interface (`matplotlib.pyplot.figure`) are retained until explicitly closed and may consume too much memory. (To control this warning, see the rcParam `figure.max_open_warning`).\n",
      "  max_open_warning, RuntimeWarning)\n"
     ]
    }
   ],
   "source": [
    "# Setting the contour levels for the colored plot\n",
    "color_intervals = np.linspace(geopotential_height.min() * 0.99,\n",
    "                              geopotential_height.max()*1.01, 60,\n",
    "                              endpoint=True)\n",
    "\n",
    "# Set the contour levels for the contour lines\n",
    "contour_intervals = np.linspace(geopotential_height.min()*0.99,\n",
    "                                geopotential_height.max()*1.01,\n",
    "                                20,\n",
    "                                endpoint=True)\n",
    "\n",
    "for tstep in range(240): # looping over all time steps\n",
    "    \n",
    "    geopotential_height = fileobj.variables['z'][tstep,zlev,:,:]/9.81 # shape = (121, 240)\n",
    "    timestamp = tarray[tstep]\n",
    "\n",
    "    # Make the longitude coordinate cyclic (continuous at the booundary, connecting 0 deg to 360 deg)\n",
    "    sst, lons = add_cyclic_point(geopotential_height, coord=xlon)\n",
    "\n",
    "    plt.clf(); # clear the figure\n",
    "    plt.figure(figsize=(15, 5));\n",
    "    # Plot the figure on the left (1,2,1)\n",
    "    ax1 = plt.subplot(1, 2, 1, projection=ccrs.PlateCarree());\n",
    "    plt.contourf(lons, ylat, sst, color_intervals, cmap='rainbow', alpha=0.5, transform=ccrs.PlateCarree())\n",
    "    plt.title('Z300 on '+str(timestamp))\n",
    "    plt.colorbar(shrink=0.5)\n",
    "    plt.contour(lons, ylat, sst, contour_intervals, colors='k', alpha=0.5, transform=ccrs.PlateCarree())\n",
    "    ax1.coastlines()\n",
    "\n",
    "    # Plot the figure on the right (1,2,1)\n",
    "    #ax2 = plt.subplot(1, 2, 2, projection=ccrs.AzimuthalEquidistant(central_latitude=90.0)); # This is another option to try\n",
    "    ax2 = plt.subplot(1, 2, 2, projection=ccrs.LambertConformal(central_latitude=90.0, cutoff=0));\n",
    "    ax2.set_global()\n",
    "    plt.contourf(lons, ylat, sst, color_intervals, cmap='rainbow', alpha=0.5, transform=ccrs.PlateCarree())\n",
    "    plt.title('Z300 on '+str(timestamp))\n",
    "    plt.colorbar(shrink=0.5)\n",
    "    plt.contour(lons, ylat, sst, contour_intervals, colors='k', alpha=0.5, transform=ccrs.PlateCarree())\n",
    "    ax2.coastlines()\n",
    "    ax2.gridlines()\n",
    "    plt.tight_layout()\n",
    "    \n",
    "    # This saves the figure in the specific format.\n",
    "    # The method zfill() pads string on the left with zeros to fill width.\n",
    "    plt.savefig('map_images_2/test_b_'+str(tstep).zfill(3)+'.png')\n",
    "    \n",
    "    # If you don't want to show the graphic, comment out the line below\n",
    "    #plt.show()\n",
    "    \n"
   ]
  },
  {
   "cell_type": "markdown",
   "metadata": {},
   "source": [
    "# List the .png files in your directory\n",
    "- When you include ! at the beginning of a line, you will execute the line as **linux commands**.\n",
    "- The command below list out files with the '.png' suffix."
   ]
  },
  {
   "cell_type": "code",
   "execution_count": 7,
   "metadata": {
    "scrolled": true
   },
   "outputs": [
    {
     "name": "stdout",
     "output_type": "stream",
     "text": [
      "test_000.png  test_001.png  test_002.png\r\n"
     ]
    }
   ],
   "source": [
    "#!ls *.png"
   ]
  },
  {
   "cell_type": "markdown",
   "metadata": {},
   "source": [
    "# Running the jupyter notebook as a batch script (instead of having the window open)\n",
    "You can convert the jupyter notebook to python script on linux command line:\n",
    "```\n",
    "jupyter nbconvert --to python Cartopy_tutorial.ipynb\n",
    "```\n",
    "This produces a file *Cartopy_tutorial.py*. When you execute a python script, make sure all the plots are not shown. **Remember to comment out all linux commands and ``` plt.show() ``` before converting.**\n",
    "\n",
    "You can then run the python script in background on linux by using\n",
    "```\n",
    "python Cartopy_tutorial.py &\n",
    "```\n",
    "or if you want the output to be directed into a file\n",
    "```\n",
    "python Cartopy_tutorial.py > output_log 2>&1 &\n",
    "```\n",
    "See the [discussion](https://unix.stackexchange.com/questions/74520/can-i-redirect-output-to-a-log-file-and-background-a-process-at-the-same-time/74524) here for more explanation.\n",
    "\n",
    "\n",
    "# Combine the images to make a movie\n",
    "There are free software online that you may use to convert an image sequence to a movie, for example: http://www.andrewnoske.com/wiki/Convert_an_image_sequence_to_a_movie."
   ]
  },
  {
   "cell_type": "markdown",
   "metadata": {},
   "source": [
    "# Close the file if not used anymore"
   ]
  },
  {
   "cell_type": "code",
   "execution_count": 9,
   "metadata": {},
   "outputs": [
    {
     "ename": "RuntimeError",
     "evalue": "NetCDF: Not a valid ID",
     "output_type": "error",
     "traceback": [
      "\u001b[0;31m---------------------------------------------------------------------------\u001b[0m",
      "\u001b[0;31mRuntimeError\u001b[0m                              Traceback (most recent call last)",
      "\u001b[0;32m<ipython-input-9-c71f86e87904>\u001b[0m in \u001b[0;36m<module>\u001b[0;34m()\u001b[0m\n\u001b[0;32m----> 1\u001b[0;31m \u001b[0mfileobj\u001b[0m\u001b[0;34m.\u001b[0m\u001b[0mclose\u001b[0m\u001b[0;34m(\u001b[0m\u001b[0;34m)\u001b[0m\u001b[0;34m\u001b[0m\u001b[0m\n\u001b[0m",
      "\u001b[0;32mnetCDF4/_netCDF4.pyx\u001b[0m in \u001b[0;36mnetCDF4._netCDF4.Dataset.close\u001b[0;34m()\u001b[0m\n",
      "\u001b[0;32mnetCDF4/_netCDF4.pyx\u001b[0m in \u001b[0;36mnetCDF4._netCDF4.Dataset._close\u001b[0;34m()\u001b[0m\n",
      "\u001b[0;32mnetCDF4/_netCDF4.pyx\u001b[0m in \u001b[0;36mnetCDF4._netCDF4._ensure_nc_success\u001b[0;34m()\u001b[0m\n",
      "\u001b[0;31mRuntimeError\u001b[0m: NetCDF: Not a valid ID"
     ]
    }
   ],
   "source": [
    "fileobj.close()"
   ]
  },
  {
   "cell_type": "code",
   "execution_count": null,
   "metadata": {
    "collapsed": true
   },
   "outputs": [],
   "source": []
  },
  {
   "cell_type": "code",
   "execution_count": null,
   "metadata": {
    "collapsed": true
   },
   "outputs": [],
   "source": []
  },
  {
   "cell_type": "code",
   "execution_count": null,
   "metadata": {
    "collapsed": true
   },
   "outputs": [],
   "source": []
  }
 ],
 "metadata": {
  "kernelspec": {
   "display_name": "Python 3",
   "language": "python",
   "name": "python3"
  },
  "language_info": {
   "codemirror_mode": {
    "name": "ipython",
    "version": 3
   },
   "file_extension": ".py",
   "mimetype": "text/x-python",
   "name": "python",
   "nbconvert_exporter": "python",
   "pygments_lexer": "ipython3",
   "version": "3.6.6"
  }
 },
 "nbformat": 4,
 "nbformat_minor": 2
}
